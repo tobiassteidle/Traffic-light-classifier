{
 "cells": [
  {
   "cell_type": "code",
   "execution_count": 1,
   "metadata": {},
   "outputs": [],
   "source": [
    "import tensorflow as tf\n",
    "from PIL import Image\n",
    "import numpy as np\n",
    "import time"
   ]
  },
  {
   "cell_type": "code",
   "execution_count": 2,
   "metadata": {},
   "outputs": [
    {
     "name": "stdout",
     "output_type": "stream",
     "text": [
      "1.4.0\n"
     ]
    }
   ],
   "source": [
    "print(tf.__version__)"
   ]
  },
  {
   "cell_type": "code",
   "execution_count": 3,
   "metadata": {},
   "outputs": [],
   "source": [
    "def load_image_into_numpy_array(image):\n",
    "  (im_width, im_height) = image.size\n",
    "  return np.array(image.getdata()).reshape(\n",
    "      (im_height, im_width, 3)).astype(np.uint8)"
   ]
  },
  {
   "cell_type": "code",
   "execution_count": 7,
   "metadata": {},
   "outputs": [],
   "source": [
    "class TFClassifierGraphLoader():\n",
    "\n",
    "    def __init__(self):\n",
    "        self.classification_graph = self.load_graph('inference_graph/frozen_inference_graph.pb')\n",
    "        self.input_image = self.classification_graph.get_tensor_by_name('image_tensor:0')        \n",
    "        \n",
    "        self.detection_classes = self.classification_graph.get_tensor_by_name('detection_classes:0')\n",
    "        self.detection_number = self.classification_graph.get_tensor_by_name('num_detections:0')\n",
    "        self.detection_scores = self.classification_graph.get_tensor_by_name('detection_scores:0')\n",
    "        self.detection_boxes = self.classification_graph.get_tensor_by_name('detection_boxes:0')\n",
    "        \n",
    "        self.sess = tf.Session(graph=self.classification_graph)\n",
    "\n",
    "    def resolve_traffic_light(self, classification):\n",
    "        switcher = {\n",
    "            1: \"Green\",\n",
    "            2: \"Red\",\n",
    "            3: \"Green\",\n",
    "            4: \"Green\",\n",
    "            5: \"Red\",\n",
    "            6: \"Red\",\n",
    "            7: \"Yellow\",\n",
    "            8: \"Unknown\",\n",
    "            9: \"Red\",\n",
    "            10: \"Green\",\n",
    "            11: \"Green\",\n",
    "            12: \"Green\",\n",
    "            13: \"Red\",\n",
    "            14: \"Red\"\n",
    "        }\n",
    " \n",
    "        return switcher.get(classification, \"Unknown\")        \n",
    "        \n",
    "    def run(self, image):\n",
    "        time0 = time.time()\n",
    "                \n",
    "        classes, detection, scores, boxes = self.sess.run([self.detection_classes, self.detection_number, \n",
    "                                                    self.detection_scores, self.detection_boxes], \n",
    "                                           feed_dict={self.input_image: image})\n",
    "                \n",
    "        time1 = time.time()\n",
    "        print(\"Time in milliseconds\", (time1 - time0) * 1000)\n",
    "        \n",
    "        print(self.resolve_traffic_light(int(np.squeeze(classes)[0])))\n",
    "        \n",
    "    def load_graph(self, graph_file):\n",
    "        \"\"\"Loads a frozen inference graph\"\"\"\n",
    "        graph = tf.Graph()\n",
    "        with graph.as_default():\n",
    "            od_graph_def = tf.GraphDef()\n",
    "            with tf.gfile.GFile(graph_file, 'rb') as fid:\n",
    "                serialized_graph = fid.read()\n",
    "                od_graph_def.ParseFromString(serialized_graph)\n",
    "                tf.import_graph_def(od_graph_def, name='')\n",
    "              \n",
    "        return graph"
   ]
  },
  {
   "cell_type": "code",
   "execution_count": 8,
   "metadata": {},
   "outputs": [],
   "source": [
    "#image = Image.open('test_images/udacity/image7.jpg')\n",
    "image = Image.open('test_images/bag/image1.png')\n",
    "\n",
    "#size = 1280, 720\n",
    "#image.thumbnail(size)\n",
    "\n",
    "np_image = load_image_into_numpy_array(image)\n",
    "np_image_expanded = np.expand_dims(np_image, axis=0)"
   ]
  },
  {
   "cell_type": "code",
   "execution_count": 9,
   "metadata": {},
   "outputs": [],
   "source": [
    "graph_loader = TFClassifierGraphLoader()"
   ]
  },
  {
   "cell_type": "code",
   "execution_count": 11,
   "metadata": {},
   "outputs": [
    {
     "name": "stdout",
     "output_type": "stream",
     "text": [
      "Time in milliseconds 16.993045806884766\n",
      "Green\n"
     ]
    }
   ],
   "source": [
    "graph_loader.run(np_image_expanded)"
   ]
  },
  {
   "cell_type": "code",
   "execution_count": null,
   "metadata": {},
   "outputs": [],
   "source": []
  },
  {
   "cell_type": "code",
   "execution_count": null,
   "metadata": {},
   "outputs": [],
   "source": []
  }
 ],
 "metadata": {
  "kernelspec": {
   "display_name": "Python 3",
   "language": "python",
   "name": "python3"
  },
  "language_info": {
   "codemirror_mode": {
    "name": "ipython",
    "version": 3
   },
   "file_extension": ".py",
   "mimetype": "text/x-python",
   "name": "python",
   "nbconvert_exporter": "python",
   "pygments_lexer": "ipython3",
   "version": "3.6.0"
  }
 },
 "nbformat": 4,
 "nbformat_minor": 2
}
